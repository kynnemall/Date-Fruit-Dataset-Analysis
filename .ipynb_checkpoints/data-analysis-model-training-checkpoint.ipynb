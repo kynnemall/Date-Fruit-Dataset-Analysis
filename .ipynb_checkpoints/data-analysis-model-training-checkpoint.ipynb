{
 "cells": [
  {
   "cell_type": "markdown",
   "id": "475e92cf-8bc3-4787-9c48-315540a5f0ac",
   "metadata": {
    "tags": []
   },
   "source": [
    "# Date Fruit Dataset - Analysis and Model Training\n",
    "This dataset comes from a paper (reference below) which extracted features from 898 images of 7 different Date species in an effort ot classify them using Logistic Regression and Artificial Neural Networks, which yielded classification accuracies of 91.0% and 92.2%, respectively. Stacking the models yielded a slight increase in accuracy (92.8%).\n",
    "\n",
    "The authors don't mention any feature selection strategies or attempts to further improve their models. Since feature selection, feature transformation, model selection, and hyperparameter tuning can optimize performance, I am curious to see if better accuracies can be achieved on this dataset.\n",
    "\n",
    "KOKLU, M., KURSUN, R., TASPINAR, Y. S., and CINAR, I. (2021). Classification of Date Fruits into Genetic Varieties Using Image Analysis. Mathematical Problems in Engineering, Vol.2021, Article ID: 4793293, DOI:10.1155/2021/4793293\n",
    "https://www.hindawi.com/journals/mpe/2021/4793293/\n",
    "DATASET: https://www.muratkoklu.com/datasets/\n",
    "https://www.kaggle.com/mkoklu42"
   ]
  },
  {
   "cell_type": "code",
   "execution_count": 50,
   "id": "7c216d39-3cb3-47f9-a37f-7920395f1d94",
   "metadata": {},
   "outputs": [
    {
     "data": {
      "text/html": [
       "<div>\n",
       "<style scoped>\n",
       "    .dataframe tbody tr th:only-of-type {\n",
       "        vertical-align: middle;\n",
       "    }\n",
       "\n",
       "    .dataframe tbody tr th {\n",
       "        vertical-align: top;\n",
       "    }\n",
       "\n",
       "    .dataframe thead th {\n",
       "        text-align: right;\n",
       "    }\n",
       "</style>\n",
       "<table border=\"1\" class=\"dataframe\">\n",
       "  <thead>\n",
       "    <tr style=\"text-align: right;\">\n",
       "      <th></th>\n",
       "      <th>AREA</th>\n",
       "      <th>PERIMETER</th>\n",
       "      <th>MAJOR_AXIS</th>\n",
       "      <th>MINOR_AXIS</th>\n",
       "      <th>ECCENTRICITY</th>\n",
       "      <th>EQDIASQ</th>\n",
       "      <th>SOLIDITY</th>\n",
       "      <th>CONVEX_AREA</th>\n",
       "      <th>EXTENT</th>\n",
       "      <th>ASPECT_RATIO</th>\n",
       "      <th>...</th>\n",
       "      <th>KurtosisRR</th>\n",
       "      <th>KurtosisRG</th>\n",
       "      <th>KurtosisRB</th>\n",
       "      <th>EntropyRR</th>\n",
       "      <th>EntropyRG</th>\n",
       "      <th>EntropyRB</th>\n",
       "      <th>ALLdaub4RR</th>\n",
       "      <th>ALLdaub4RG</th>\n",
       "      <th>ALLdaub4RB</th>\n",
       "      <th>Species</th>\n",
       "    </tr>\n",
       "  </thead>\n",
       "  <tbody>\n",
       "    <tr>\n",
       "      <th>0</th>\n",
       "      <td>422163</td>\n",
       "      <td>2378.908</td>\n",
       "      <td>837.8484</td>\n",
       "      <td>645.6693</td>\n",
       "      <td>0.6373</td>\n",
       "      <td>733.1539</td>\n",
       "      <td>0.9947</td>\n",
       "      <td>424428</td>\n",
       "      <td>0.7831</td>\n",
       "      <td>1.2976</td>\n",
       "      <td>...</td>\n",
       "      <td>3.2370</td>\n",
       "      <td>2.9574</td>\n",
       "      <td>4.2287</td>\n",
       "      <td>-59191263232</td>\n",
       "      <td>-50714214400</td>\n",
       "      <td>-39922372608</td>\n",
       "      <td>58.7255</td>\n",
       "      <td>54.9554</td>\n",
       "      <td>47.8400</td>\n",
       "      <td>BERHI</td>\n",
       "    </tr>\n",
       "    <tr>\n",
       "      <th>1</th>\n",
       "      <td>338136</td>\n",
       "      <td>2085.144</td>\n",
       "      <td>723.8198</td>\n",
       "      <td>595.2073</td>\n",
       "      <td>0.5690</td>\n",
       "      <td>656.1464</td>\n",
       "      <td>0.9974</td>\n",
       "      <td>339014</td>\n",
       "      <td>0.7795</td>\n",
       "      <td>1.2161</td>\n",
       "      <td>...</td>\n",
       "      <td>2.6228</td>\n",
       "      <td>2.6350</td>\n",
       "      <td>3.1704</td>\n",
       "      <td>-34233065472</td>\n",
       "      <td>-37462601728</td>\n",
       "      <td>-31477794816</td>\n",
       "      <td>50.0259</td>\n",
       "      <td>52.8168</td>\n",
       "      <td>47.8315</td>\n",
       "      <td>BERHI</td>\n",
       "    </tr>\n",
       "    <tr>\n",
       "      <th>2</th>\n",
       "      <td>526843</td>\n",
       "      <td>2647.394</td>\n",
       "      <td>940.7379</td>\n",
       "      <td>715.3638</td>\n",
       "      <td>0.6494</td>\n",
       "      <td>819.0222</td>\n",
       "      <td>0.9962</td>\n",
       "      <td>528876</td>\n",
       "      <td>0.7657</td>\n",
       "      <td>1.3150</td>\n",
       "      <td>...</td>\n",
       "      <td>3.7516</td>\n",
       "      <td>3.8611</td>\n",
       "      <td>4.7192</td>\n",
       "      <td>-93948354560</td>\n",
       "      <td>-74738221056</td>\n",
       "      <td>-60311207936</td>\n",
       "      <td>65.4772</td>\n",
       "      <td>59.2860</td>\n",
       "      <td>51.9378</td>\n",
       "      <td>BERHI</td>\n",
       "    </tr>\n",
       "    <tr>\n",
       "      <th>3</th>\n",
       "      <td>416063</td>\n",
       "      <td>2351.210</td>\n",
       "      <td>827.9804</td>\n",
       "      <td>645.2988</td>\n",
       "      <td>0.6266</td>\n",
       "      <td>727.8378</td>\n",
       "      <td>0.9948</td>\n",
       "      <td>418255</td>\n",
       "      <td>0.7759</td>\n",
       "      <td>1.2831</td>\n",
       "      <td>...</td>\n",
       "      <td>5.0401</td>\n",
       "      <td>8.6136</td>\n",
       "      <td>8.2618</td>\n",
       "      <td>-32074307584</td>\n",
       "      <td>-32060925952</td>\n",
       "      <td>-29575010304</td>\n",
       "      <td>43.3900</td>\n",
       "      <td>44.1259</td>\n",
       "      <td>41.1882</td>\n",
       "      <td>BERHI</td>\n",
       "    </tr>\n",
       "    <tr>\n",
       "      <th>4</th>\n",
       "      <td>347562</td>\n",
       "      <td>2160.354</td>\n",
       "      <td>763.9877</td>\n",
       "      <td>582.8359</td>\n",
       "      <td>0.6465</td>\n",
       "      <td>665.2291</td>\n",
       "      <td>0.9908</td>\n",
       "      <td>350797</td>\n",
       "      <td>0.7569</td>\n",
       "      <td>1.3108</td>\n",
       "      <td>...</td>\n",
       "      <td>2.7016</td>\n",
       "      <td>2.9761</td>\n",
       "      <td>4.4146</td>\n",
       "      <td>-39980974080</td>\n",
       "      <td>-35980042240</td>\n",
       "      <td>-25593278464</td>\n",
       "      <td>52.7743</td>\n",
       "      <td>50.9080</td>\n",
       "      <td>42.6666</td>\n",
       "      <td>BERHI</td>\n",
       "    </tr>\n",
       "  </tbody>\n",
       "</table>\n",
       "<p>5 rows × 35 columns</p>\n",
       "</div>"
      ],
      "text/plain": [
       "     AREA  PERIMETER  MAJOR_AXIS  MINOR_AXIS  ECCENTRICITY   EQDIASQ  \\\n",
       "0  422163   2378.908    837.8484    645.6693        0.6373  733.1539   \n",
       "1  338136   2085.144    723.8198    595.2073        0.5690  656.1464   \n",
       "2  526843   2647.394    940.7379    715.3638        0.6494  819.0222   \n",
       "3  416063   2351.210    827.9804    645.2988        0.6266  727.8378   \n",
       "4  347562   2160.354    763.9877    582.8359        0.6465  665.2291   \n",
       "\n",
       "   SOLIDITY  CONVEX_AREA  EXTENT  ASPECT_RATIO  ...  KurtosisRR  KurtosisRG  \\\n",
       "0    0.9947       424428  0.7831        1.2976  ...      3.2370      2.9574   \n",
       "1    0.9974       339014  0.7795        1.2161  ...      2.6228      2.6350   \n",
       "2    0.9962       528876  0.7657        1.3150  ...      3.7516      3.8611   \n",
       "3    0.9948       418255  0.7759        1.2831  ...      5.0401      8.6136   \n",
       "4    0.9908       350797  0.7569        1.3108  ...      2.7016      2.9761   \n",
       "\n",
       "   KurtosisRB    EntropyRR    EntropyRG    EntropyRB  ALLdaub4RR  ALLdaub4RG  \\\n",
       "0      4.2287 -59191263232 -50714214400 -39922372608     58.7255     54.9554   \n",
       "1      3.1704 -34233065472 -37462601728 -31477794816     50.0259     52.8168   \n",
       "2      4.7192 -93948354560 -74738221056 -60311207936     65.4772     59.2860   \n",
       "3      8.2618 -32074307584 -32060925952 -29575010304     43.3900     44.1259   \n",
       "4      4.4146 -39980974080 -35980042240 -25593278464     52.7743     50.9080   \n",
       "\n",
       "   ALLdaub4RB  Species  \n",
       "0     47.8400    BERHI  \n",
       "1     47.8315    BERHI  \n",
       "2     51.9378    BERHI  \n",
       "3     41.1882    BERHI  \n",
       "4     42.6666    BERHI  \n",
       "\n",
       "[5 rows x 35 columns]"
      ]
     },
     "execution_count": 50,
     "metadata": {},
     "output_type": "execute_result"
    }
   ],
   "source": [
    "import numpy as np\n",
    "import pandas as pd\n",
    "import seaborn as sns\n",
    "import matplotlib.pyplot as plt\n",
    "import statsmodels.api as sa\n",
    "import statsmodels.formula.api as sfa\n",
    "\n",
    "df = pd.read_excel(\"Date_Fruit_Datasets/raw_dataset.xlsx\")\n",
    "df.rename(columns={'Class':'Species'}, inplace=True)\n",
    "df.head()"
   ]
  },
  {
   "cell_type": "markdown",
   "id": "704b14e0-8d7a-42da-8d1d-0674c69ec4c3",
   "metadata": {
    "jp-MarkdownHeadingCollapsed": true,
    "tags": []
   },
   "source": [
    "## Exploratory Data Analysis - Feature Selection\n",
    "Before making any predictions, we need to explore the data and look for patterns which will us predict the Date species"
   ]
  },
  {
   "cell_type": "code",
   "execution_count": 73,
   "id": "4a57bf76-5295-40de-8ace-e51a22a72c91",
   "metadata": {},
   "outputs": [
    {
     "name": "stdout",
     "output_type": "stream",
     "text": [
      "7 Species, 34 features\n",
      "DOKOL     204\n",
      "SAFAVI    199\n",
      "ROTANA    166\n",
      "DEGLET     98\n",
      "SOGAY      94\n",
      "IRAQI      72\n",
      "BERHI      65\n",
      "Name: Species, dtype: int64\n"
     ]
    }
   ],
   "source": [
    "X = df.iloc[:, :-1]\n",
    "Y = df.iloc[:, -1]\n",
    "nclasses = df[\"Species\"].nunique()\n",
    "nfeatures = len(X.columns)\n",
    "\n",
    "print(f\"{nclasses} Species, {nfeatures} features\")\n",
    "print(df[\"Species\"].value_counts())"
   ]
  },
  {
   "cell_type": "markdown",
   "id": "b5b3198b-318b-4a57-89d5-041b13a15c2c",
   "metadata": {},
   "source": [
    "Two things jump out with this quick summary:\n",
    "1. The dataset is imbalanced\n",
    "2. There are at least 2 observations per feature per class, far fewer than the desired value of 10\n",
    "\n",
    "Taking these observations into account will help us better train our models."
   ]
  },
  {
   "cell_type": "code",
   "execution_count": 76,
   "id": "0781729c-a88f-4ae5-9030-85ccfafe5fa3",
   "metadata": {},
   "outputs": [
    {
     "name": "stdout",
     "output_type": "stream",
     "text": [
      "32\n"
     ]
    }
   ],
   "source": [
    "sig_features = []\n",
    "\n",
    "for col in X.columns:\n",
    "    lm = sfa.ols(f\"{col} ~ C(Species)\", data=df).fit()\n",
    "    anova = sa.stats.anova_lm(lm)\n",
    "    pval = anova[\"PR(>F)\"][\"C(Species)\"]\n",
    "    if pval < 1e-10:\n",
    "        sig_features.append(col)\n",
    "        \n",
    "print(len(sig_features))"
   ]
  },
  {
   "cell_type": "markdown",
   "id": "4bfad464-78d6-4ec0-aba0-fff552622c47",
   "metadata": {},
   "source": [
    "Using ANOVA helped us remove two variables which were not different at all between the species. Since all features came from images of Dates taken under similar conditions, it is quite likely that some features are correlated with each other."
   ]
  },
  {
   "cell_type": "code",
   "execution_count": 82,
   "id": "5a5fded7-fff1-4eeb-a3fa-b861e8c06ddd",
   "metadata": {},
   "outputs": [
    {
     "data": {
      "image/png": "[encoded data removed]",
      "text/plain": [
       "<Figure size 648x648 with 2 Axes>"
      ]
     },
     "metadata": {
      "needs_background": "light"
     },
     "output_type": "display_data"
    }
   ],
   "source": [
    "X = df[sig_features]\n",
    "plt.figure(figsize=(9, 9))\n",
    "ax = sns.heatmap(X.corr(), cmap=\"jet\")"
   ]
  },
  {
   "cell_type": "markdown",
   "id": "c685caa9-a527-435c-9144-8c97b0eea629",
   "metadata": {},
   "source": [
    "Areas of blue and red indicate high correlation and represent features we may wish to drop. Let's remove columns with shared correlation greater than 0.7 and see how many features remain."
   ]
  },
  {
   "cell_type": "code",
   "execution_count": 83,
   "id": "5ca6a836-d9a6-4955-a2cf-a0e2ee5a96bc",
   "metadata": {},
   "outputs": [
    {
     "name": "stdout",
     "output_type": "stream",
     "text": [
      "(898, 32)\n",
      "(898, 8)\n"
     ]
    }
   ],
   "source": [
    "print(X.shape)\n",
    "corr = X.corr()\n",
    "for col in X.columns:\n",
    "    corrs = np.abs(corr[col])\n",
    "    corr_cols = np.sum(corrs > 0.7)\n",
    "    # has to be greater than 1 since the column itself is included\n",
    "    if corr_cols > 1:\n",
    "        X.drop(columns=[col], inplace=True)\n",
    "    corr = X.corr()\n",
    "print(X.shape)"
   ]
  },
  {
   "cell_type": "markdown",
   "id": "d31c5f03-026e-4a88-b02c-6c69c90c06a7",
   "metadata": {},
   "source": [
    "Excellent! We've now gone from 32 down to 8 features which have far lower correlation. Let's have a quick peak at the correlation heatmap to see how it looks"
   ]
  },
  {
   "cell_type": "code",
   "execution_count": 84,
   "id": "7d81a3ce-cdb1-4977-85ce-996e7af75de2",
   "metadata": {},
   "outputs": [
    {
     "data": {
      "image/png": "[encoded data removed]",
      "text/plain": [
       "<Figure size 432x432 with 2 Axes>"
      ]
     },
     "metadata": {
      "needs_background": "light"
     },
     "output_type": "display_data"
    }
   ],
   "source": [
    "plt.figure(figsize=(6, 6))\n",
    "ax = sns.heatmap(X.corr(), cmap=\"jet\")"
   ]
  },
  {
   "cell_type": "markdown",
   "id": "5bafc13c-ff5c-4786-824b-783a5f5e6ff4",
   "metadata": {
    "tags": []
   },
   "source": [
    "## Exploratory Data Analysis - Transformation\n",
    "Linear models such as Logistic Regression can be impacted by features with drastically different ranges. To compensate for this, we can apply mathematical transformations to compress or transform our features into specific ranges. To see if this is necessary, let's look at the ranges of each feature"
   ]
  },
  {
   "cell_type": "code",
   "execution_count": 90,
   "id": "d9311bac-8497-487f-8361-578f32e83e16",
   "metadata": {},
   "outputs": [
    {
     "data": {
      "text/html": [
       "<div>\n",
       "<style scoped>\n",
       "    .dataframe tbody tr th:only-of-type {\n",
       "        vertical-align: middle;\n",
       "    }\n",
       "\n",
       "    .dataframe tbody tr th {\n",
       "        vertical-align: top;\n",
       "    }\n",
       "\n",
       "    .dataframe thead th {\n",
       "        text-align: right;\n",
       "    }\n",
       "</style>\n",
       "<table border=\"1\" class=\"dataframe\">\n",
       "  <thead>\n",
       "    <tr style=\"text-align: right;\">\n",
       "      <th></th>\n",
       "      <th>EXTENT</th>\n",
       "      <th>SHAPEFACTOR_2</th>\n",
       "      <th>SHAPEFACTOR_3</th>\n",
       "      <th>SHAPEFACTOR_4</th>\n",
       "      <th>StdDevRB</th>\n",
       "      <th>KurtosisRB</th>\n",
       "      <th>EntropyRB</th>\n",
       "      <th>ALLdaub4RB</th>\n",
       "    </tr>\n",
       "  </thead>\n",
       "  <tbody>\n",
       "    <tr>\n",
       "      <th>count</th>\n",
       "      <td>898.000000</td>\n",
       "      <td>898.000000</td>\n",
       "      <td>898.000000</td>\n",
       "      <td>898.000000</td>\n",
       "      <td>898.000000</td>\n",
       "      <td>898.000000</td>\n",
       "      <td>8.980000e+02</td>\n",
       "      <td>898.000000</td>\n",
       "    </tr>\n",
       "    <tr>\n",
       "      <th>mean</th>\n",
       "      <td>0.736267</td>\n",
       "      <td>0.001794</td>\n",
       "      <td>0.655420</td>\n",
       "      <td>0.988680</td>\n",
       "      <td>26.148330</td>\n",
       "      <td>3.780928</td>\n",
       "      <td>-2.771876e+10</td>\n",
       "      <td>48.098393</td>\n",
       "    </tr>\n",
       "    <tr>\n",
       "      <th>std</th>\n",
       "      <td>0.053745</td>\n",
       "      <td>0.000428</td>\n",
       "      <td>0.094314</td>\n",
       "      <td>0.020473</td>\n",
       "      <td>4.905078</td>\n",
       "      <td>2.049831</td>\n",
       "      <td>1.484137e+10</td>\n",
       "      <td>10.813862</td>\n",
       "    </tr>\n",
       "    <tr>\n",
       "      <th>min</th>\n",
       "      <td>0.512300</td>\n",
       "      <td>0.001100</td>\n",
       "      <td>0.001700</td>\n",
       "      <td>0.756800</td>\n",
       "      <td>5.148600</td>\n",
       "      <td>1.767200</td>\n",
       "      <td>-8.747177e+10</td>\n",
       "      <td>22.130000</td>\n",
       "    </tr>\n",
       "    <tr>\n",
       "      <th>25%</th>\n",
       "      <td>0.705875</td>\n",
       "      <td>0.001500</td>\n",
       "      <td>0.589975</td>\n",
       "      <td>0.989300</td>\n",
       "      <td>22.890975</td>\n",
       "      <td>2.577275</td>\n",
       "      <td>-3.564534e+10</td>\n",
       "      <td>39.250725</td>\n",
       "    </tr>\n",
       "    <tr>\n",
       "      <th>50%</th>\n",
       "      <td>0.746950</td>\n",
       "      <td>0.001600</td>\n",
       "      <td>0.647950</td>\n",
       "      <td>0.993600</td>\n",
       "      <td>26.469000</td>\n",
       "      <td>3.080700</td>\n",
       "      <td>-2.392928e+10</td>\n",
       "      <td>49.614100</td>\n",
       "    </tr>\n",
       "    <tr>\n",
       "      <th>75%</th>\n",
       "      <td>0.775850</td>\n",
       "      <td>0.002075</td>\n",
       "      <td>0.720625</td>\n",
       "      <td>0.996400</td>\n",
       "      <td>29.482375</td>\n",
       "      <td>4.283125</td>\n",
       "      <td>-1.660367e+10</td>\n",
       "      <td>56.666675</td>\n",
       "    </tr>\n",
       "    <tr>\n",
       "      <th>max</th>\n",
       "      <td>0.856200</td>\n",
       "      <td>0.004300</td>\n",
       "      <td>0.937300</td>\n",
       "      <td>0.999500</td>\n",
       "      <td>42.422800</td>\n",
       "      <td>32.249500</td>\n",
       "      <td>-4.370435e+08</td>\n",
       "      <td>74.104600</td>\n",
       "    </tr>\n",
       "  </tbody>\n",
       "</table>\n",
       "</div>"
      ],
      "text/plain": [
       "           EXTENT  SHAPEFACTOR_2  SHAPEFACTOR_3  SHAPEFACTOR_4    StdDevRB  \\\n",
       "count  898.000000     898.000000     898.000000     898.000000  898.000000   \n",
       "mean     0.736267       0.001794       0.655420       0.988680   26.148330   \n",
       "std      0.053745       0.000428       0.094314       0.020473    4.905078   \n",
       "min      0.512300       0.001100       0.001700       0.756800    5.148600   \n",
       "25%      0.705875       0.001500       0.589975       0.989300   22.890975   \n",
       "50%      0.746950       0.001600       0.647950       0.993600   26.469000   \n",
       "75%      0.775850       0.002075       0.720625       0.996400   29.482375   \n",
       "max      0.856200       0.004300       0.937300       0.999500   42.422800   \n",
       "\n",
       "       KurtosisRB     EntropyRB  ALLdaub4RB  \n",
       "count  898.000000  8.980000e+02  898.000000  \n",
       "mean     3.780928 -2.771876e+10   48.098393  \n",
       "std      2.049831  1.484137e+10   10.813862  \n",
       "min      1.767200 -8.747177e+10   22.130000  \n",
       "25%      2.577275 -3.564534e+10   39.250725  \n",
       "50%      3.080700 -2.392928e+10   49.614100  \n",
       "75%      4.283125 -1.660367e+10   56.666675  \n",
       "max     32.249500 -4.370435e+08   74.104600  "
      ]
     },
     "execution_count": 90,
     "metadata": {},
     "output_type": "execute_result"
    }
   ],
   "source": [
    "X.describe()"
   ]
  },
  {
   "cell_type": "code",
   "execution_count": 92,
   "id": "91a860d7-22d4-4b94-8ac9-e726e7acc9ec",
   "metadata": {},
   "outputs": [
    {
     "data": {
      "text/plain": [
       "EXTENT           3.439000e-01\n",
       "SHAPEFACTOR_2    3.200000e-03\n",
       "SHAPEFACTOR_3    9.356000e-01\n",
       "SHAPEFACTOR_4    2.427000e-01\n",
       "StdDevRB         3.727420e+01\n",
       "KurtosisRB       3.048230e+01\n",
       "EntropyRB        8.703472e+10\n",
       "ALLdaub4RB       5.197460e+01\n",
       "dtype: float64"
      ]
     },
     "execution_count": 92,
     "metadata": {},
     "output_type": "execute_result"
    }
   ],
   "source": [
    "X.max() - X.min()"
   ]
  },
  {
   "cell_type": "markdown",
   "id": "d6fccb7f-b3b8-4b2b-8d61-d1586ffe2945",
   "metadata": {},
   "source": [
    "These variables have drastically different ranges"
   ]
  }
 ],
 "metadata": {
  "kernelspec": {
   "display_name": "Python 3 (ipykernel)",
   "language": "python",
   "name": "python3"
  },
  "language_info": {
   "codemirror_mode": {
    "name": "ipython",
    "version": 3
   },
   "file_extension": ".py",
   "mimetype": "text/x-python",
   "name": "python",
   "nbconvert_exporter": "python",
   "pygments_lexer": "ipython3",
   "version": "3.8.5"
  }
 },
 "nbformat": 4,
 "nbformat_minor": 5
}
